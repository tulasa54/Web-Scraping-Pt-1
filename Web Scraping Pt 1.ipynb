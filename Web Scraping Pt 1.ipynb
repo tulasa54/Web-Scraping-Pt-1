{
 "cells": [
  {
   "cell_type": "code",
   "execution_count": 1,
   "id": "15a2815c",
   "metadata": {},
   "outputs": [],
   "source": [
    "from bs4 import BeautifulSoup\n",
    "import requests"
   ]
  },
  {
   "cell_type": "code",
   "execution_count": 3,
   "id": "fcdf0dde",
   "metadata": {},
   "outputs": [],
   "source": [
    "sportsTeams = {'Mens Volleyball Team' : 'https://athletics.baruch.cuny.edu/sports/mens-volleyball/roster', \n",
    "                'Mens Swim Team' : 'https://athletics.baruch.cuny.edu/sports/mens-swimming-and-diving/roster', \n",
    "                'Womens Volleyball Team' : 'https://athletics.baruch.cuny.edu/sports/womens-volleyball/roster', \n",
    "                'Womens Swim Team' : 'https://athletics.baruch.cuny.edu/sports/womens-swimming-and-diving/roster'}"
   ]
  },
  {
   "cell_type": "code",
   "execution_count": 4,
   "id": "d955d0dc",
   "metadata": {},
   "outputs": [
    {
     "name": "stdout",
     "output_type": "stream",
     "text": [
      "Team: Mens Volleyball Team\n",
      "URL: https://athletics.baruch.cuny.edu/sports/mens-volleyball/roster\n",
      "No of players in the team: 15\n",
      "Average heights in feet: 73.27\n",
      "\n",
      "Team: Mens Swim Team\n",
      "URL: https://athletics.baruch.cuny.edu/sports/mens-swimming-and-diving/roster\n",
      "No of players in the team: 17\n",
      "Average heights in feet: 71.53\n",
      "\n",
      "Team: Womens Volleyball Team\n",
      "URL: https://athletics.baruch.cuny.edu/sports/womens-volleyball/roster\n",
      "No of players in the team: 12\n",
      "Average heights in feet: 65.33\n",
      "\n",
      "Team: Womens Swim Team\n",
      "URL: https://athletics.baruch.cuny.edu/sports/womens-swimming-and-diving/roster\n",
      "No of players in the team: 10\n",
      "Average heights in feet: 64.00\n",
      "\n"
     ]
    }
   ],
   "source": [
    "def scrap_data(TeamName, TeamUrl):\n",
    "    #initializing variables\n",
    "    HeightList = []\n",
    "    sumHeights = 0\n",
    "    Heights_inFeet = 0\n",
    "    \n",
    "    TeamSoup = requests.get(TeamUrl)\n",
    "    TeamBeauSoup = BeautifulSoup(TeamSoup.content, 'html.parser')\n",
    "    HeightTags = TeamBeauSoup.find_all('td', class_ = 'height')\n",
    "    \n",
    "    for Heights in HeightTags:\n",
    "        Heights = Heights.get_text()\n",
    "        Heights = Heights.split('-')\n",
    "        Heights_inInches = int(Heights[0]) * 12 + int(Heights[1])\n",
    "        HeightList.append(Heights_inInches)\n",
    "        sumHeights += Heights_inInches\n",
    "    \n",
    "    AvgHeight = sumHeights/len(HeightList)\n",
    "    print(f'No of players in the team: {len(HeightList)}')\n",
    "    print(f'Average heights in feet: {AvgHeight:.2f}\\n')\n",
    "    \n",
    "def main():\n",
    "    for key, value in sportsTeams.items():\n",
    "        print(f'Team: {key}\\nURL: {value}')\n",
    "        scrap_data(key, value)\n",
    "        \n",
    "main()"
   ]
  },
  {
   "cell_type": "code",
   "execution_count": null,
   "id": "88f0d52a",
   "metadata": {},
   "outputs": [],
   "source": []
  }
 ],
 "metadata": {
  "kernelspec": {
   "display_name": "Python 3",
   "language": "python",
   "name": "python3"
  },
  "language_info": {
   "codemirror_mode": {
    "name": "ipython",
    "version": 3
   },
   "file_extension": ".py",
   "mimetype": "text/x-python",
   "name": "python",
   "nbconvert_exporter": "python",
   "pygments_lexer": "ipython3",
   "version": "3.8.8"
  }
 },
 "nbformat": 4,
 "nbformat_minor": 5
}
